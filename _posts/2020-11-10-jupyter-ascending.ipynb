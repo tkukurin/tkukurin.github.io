{
 "cells": [
  {
   "cell_type": "markdown",
   "metadata": {},
   "source": [
    "Configure Jupyter from [`~/.jupyter/jupyter_notebook_config.py`](https://jupyter-notebook.readthedocs.io/en/stable/config.html).\n",
    "Backend options can be found in `jupyter notebook --help`.\n",
    "\n",
    "As of Nov 10, 2020 [frontend config is still WIP](https://jupyter-notebook.readthedocs.io/en/stable/frontend_config.html).\n",
    "You can change things in some weird way via front-end JavaScript, though:"
   ]
  },
  {
   "cell_type": "code",
   "execution_count": 1,
   "metadata": {},
   "outputs": [
    {
     "data": {
      "application/javascript": [
       "var cell = Jupyter.notebook.get_selected_cell();\n",
       "var config = cell.config;\n",
       "var patch = {\n",
       "  CodeCell : {\n",
       "    cm_config: {\n",
       "      indentUnit: 2,\n",
       "      tabSize: 2,\n",
       "      indentWithTabs: false\n",
       "    }\n",
       "  }\n",
       "}\n",
       "config.update(patch)\n"
      ],
      "text/plain": [
       "<IPython.core.display.Javascript object>"
      ]
     },
     "metadata": {},
     "output_type": "display_data"
    }
   ],
   "source": [
    "%%javascript\n",
    "var cell = Jupyter.notebook.get_selected_cell();\n",
    "var config = cell.config;\n",
    "var patch = {\n",
    "  CodeCell : {\n",
    "    cm_config: {\n",
    "      indentUnit: 2,\n",
    "      tabSize: 2,\n",
    "      indentWithTabs: false\n",
    "    }\n",
    "  }\n",
    "}\n",
    "config.update(patch)"
   ]
  },
  {
   "cell_type": "markdown",
   "metadata": {},
   "source": [
    "Jupyter uses the [CodeMirror front-end](https://codemirror.net/doc/manual.html)\n",
    "to render Python (NB, also check out the various\n",
    "[hooks](https://codemirror.net/doc/manual.html#commands)).\n",
    "Under the hood, Jupyter will persist the preferred configuration settings in\n",
    "`~/.jupyter/nbconfig/<section>.json`, where section is not formalized but can be\n",
    "at least some of `common`, `notebook`, `tree`, `editor`."
   ]
  },
  {
   "cell_type": "code",
   "execution_count": 2,
   "metadata": {},
   "outputs": [
    {
     "name": "stdout",
     "output_type": "stream",
     "text": [
      "{\r\n",
      "  \"CodeCell\": {\r\n",
      "    \"cm_config\": {\r\n",
      "      \"indentUnit\": 2,\r\n",
      "      \"tabSize\": 2,\r\n",
      "      \"indentWithTabs\": false\r\n",
      "    }\r\n",
      "  }\r\n",
      "}"
     ]
    }
   ],
   "source": [
    "!cat ~/.jupyter/nbconfig/notebook.json"
   ]
  }
 ],
 "metadata": {
  "kernelspec": {
   "display_name": "Python 3",
   "language": "python",
   "name": "python3"
  },
  "language_info": {
   "codemirror_mode": {
    "name": "ipython",
    "version": 3
   },
   "file_extension": ".py",
   "mimetype": "text/x-python",
   "name": "python",
   "nbconvert_exporter": "python",
   "pygments_lexer": "ipython3",
   "version": "3.8.6"
  }
 },
 "nbformat": 4,
 "nbformat_minor": 4
}
