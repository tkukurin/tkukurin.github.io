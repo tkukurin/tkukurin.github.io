{
 "cells": [
  {
   "cell_type": "markdown",
   "metadata": {},
   "source": [
    "Discrete Probability Trees (or Staged Tree Models) are one of the simplest models of causal generative processes, different from Causal Bayesian Networks (CBNs) and Structural Causal Models (SCMs).\n",
    "\n",
    "A directed edge $e=(h,t)$ between two nodes in this graph is interpreted as the head being the cause of the tail.\n",
    "Every node is a collection of statements.\n",
    "\n",
    "Their implementation is quite simple, as most algorithms can be mapped almost 1:1 from the paper. Based on [Algorithms for Causal Reasoning in Probability Trees](https://arxiv.org/pdf/2010.12237.pdf)."
   ]
  },
  {
   "cell_type": "code",
   "execution_count": 1,
   "metadata": {},
   "outputs": [],
   "source": [
    "import dataclasses as dc\n",
    "from collections import namedtuple\n",
    "from typing import Iterable, Tuple"
   ]
  },
  {
   "cell_type": "markdown",
   "metadata": {},
   "source": [
    "They represent PT nodes as $n=(u,S,C)$: unique identifier, list of statements (e.g. `W=rainy` and `X=0`) and a set of transitions.\n",
    "\n",
    "> A (total) realization in the probability tree is a path from the root to a leaf, and its probability is obtained by multiplying the transition probabilities along the path; and a partial realization is any connected sub-path within a total realization."
   ]
  },
  {
   "cell_type": "code",
   "execution_count": 3,
   "metadata": {},
   "outputs": [],
   "source": [
    "Stmt = namedtuple('Stmt', 'var val')\n",
    "    \n",
    "@dc.dataclass(frozen=True)\n",
    "class Node:  # (u, S, C)\n",
    "  class Children(list):\n",
    "    pass\n",
    "  \n",
    "  id: int\n",
    "  stmts: Iterable[Stmt] = dc.field(compare=False)\n",
    "  childs: Children = dc.field(\n",
    "    default_factory=list, compare=False)\n",
    "    \n",
    "  def __post_init__(self):\n",
    "    childs = self.Children(self.childs)\n",
    "    object.__setattr__(self, 'childs', childs)"
   ]
  },
  {
   "cell_type": "markdown",
   "metadata": {},
   "source": [
    "Min-cut is a collection of nodes with **probabilities summing up to 1** (minimal set of nodes which determines whether an event occured).\n",
    "The associated **critical set** determines whether an event won't occur (false set parents)."
   ]
  },
  {
   "cell_type": "code",
   "execution_count": 4,
   "metadata": {},
   "outputs": [],
   "source": [
    "NULL = frozenset()\n",
    "MinCut = namedtuple('MinCut', 'T F', defaults=(NULL, NULL))"
   ]
  },
  {
   "cell_type": "markdown",
   "metadata": {},
   "source": [
    "For a simple statement, its min-cut is the node containing that statement."
   ]
  },
  {
   "cell_type": "code",
   "execution_count": 5,
   "metadata": {},
   "outputs": [],
   "source": [
    "def prop(n: Node, s: Stmt):\n",
    "  for var, val in n.stmts:\n",
    "    if var == s.var:\n",
    "      return MinCut(\n",
    "        # shitty pro-tip: impress people by showing you \n",
    "        # can construct Python sets using literals\n",
    "        T={n.id} if val == s.val else {*()},\n",
    "        F={*()} if val == s.val else {n.id})\n",
    "  if not n.childs:\n",
    "    raise Exception('Cannot be resolved')\n",
    "  T, F = set(), set()\n",
    "  for pc, nc in n.childs:\n",
    "    Tc, Fc = prop(nc, s)\n",
    "    T, F = T|Tc, F|Fc\n",
    "  return MinCut(T=T, F=F)"
   ]
  },
  {
   "cell_type": "markdown",
   "metadata": {},
   "source": [
    "Standard conjunction/disjunction/negation."
   ]
  },
  {
   "cell_type": "code",
   "execution_count": 6,
   "metadata": {},
   "outputs": [],
   "source": [
    "def and_(n: Node, d1: MinCut, d2: MinCut,\n",
    "         found1=False, found2=False):\n",
    "  if n.id in (d1.F|d2.F):\n",
    "    return MinCut(F={n.id})\n",
    "  if n.id in d1.T: found1 = True\n",
    "  if n.id in d2.T: found2 = True\n",
    "  if found1 and found2:\n",
    "    return MinCut(T={n.id})\n",
    "  T, F = set(), set()\n",
    "  for pc, nc in n.childs:\n",
    "    Tc, Fc = and_(nc, d1, d2, found1, found2)\n",
    "    T, F = T|Tc, F|Fc\n",
    "  return MinCut(T, F)\n",
    "\n",
    "def not_(d: MinCut):\n",
    "  # Just swap true and false sets.\n",
    "  return MinCut(T=d.F, F=d.T)\n",
    "\n",
    "def or_(n: Node, d1: MinCut, d2: MinCut):\n",
    "  # De Morgan\n",
    "  return not_(and_(n, not_(d1), not_(d2)))"
   ]
  },
  {
   "cell_type": "markdown",
   "metadata": {},
   "source": [
    "Precedence relation takes min-cuts of its cause and effect.\n",
    "Return all paths where cause precedes effect."
   ]
  },
  {
   "cell_type": "code",
   "execution_count": 7,
   "metadata": {},
   "outputs": [],
   "source": [
    "def prec(n:Node, dc:MinCut, de:MinCut, is_cause_subtree=False) -> MinCut:\n",
    "  '''A<B precedence relation.\n",
    "  @param dc: cause\n",
    "  @param de: effect\n",
    "  @return min-cut for the event where precedence holds.\n",
    "  '''\n",
    "  if is_cause_subtree:\n",
    "    if n.id in dc.T: return MinCut(T={n.id})\n",
    "    if n.id in dc.F: return MinCut(F={n.id})\n",
    "  else:\n",
    "    # if cause does not preced current node\n",
    "    # and current node is in the effect,\n",
    "    # then this is not part of the mincut.\n",
    "    if n.id in (de.T|dc.F|de.F):\n",
    "      return MinCut(F={n.id})\n",
    "    if n.id in dc.T: \n",
    "      is_cause_subtree = True    \n",
    "  T, F = set(), set()\n",
    "  for pc, nc in n.childs:\n",
    "    Tc, Fc = prec(nc, dc, de, is_cause_subtree)\n",
    "    T, F = T|Tc, F|Fc\n",
    "  return MinCut(T, F)"
   ]
  },
  {
   "cell_type": "markdown",
   "metadata": {},
   "source": [
    "Conditioning updates the tree after an event is revealed to be true.\n",
    "For example, \"What is the probability of recovery given that a patient has taken the treatment?\"\n",
    "\n",
    "$$P(R=1|T=1)$$\n",
    "\n",
    "Algorithm just removes all probability mass from the false min cut in `d`, and normalizes probabilities across the rest of the tree.\n",
    "\n",
    "![See](http://www.adaptiveagents.org/_media/wiki/see.png)"
   ]
  },
  {
   "cell_type": "code",
   "execution_count": 8,
   "metadata": {},
   "outputs": [],
   "source": [
    "def see(n: Node, d: MinCut) -> Node:\n",
    "  '''P(A|B) :: proba of A, given B.\n",
    "  @param n: reference proba tree\n",
    "  @param d: observed event\n",
    "  @return root of the new proba tree\n",
    "  '''\n",
    "  def _see(n: Node, d: MinCut, q: float):\n",
    "    if n.id in d.T: return n, 1, q\n",
    "    if n.id in d.F: return n, 0, 0\n",
    "    D = set()  \n",
    "    sl, sp = 0, 0\n",
    "    for pc, nc in n.childs:\n",
    "      nc, lc, pc = _see(nc, d, pc*q)\n",
    "      D |= {(nc,lc,pc)}\n",
    "      sl += lc\n",
    "      sp += pc\n",
    "    C = norm(D, sl, sp)\n",
    "    return Node(n.id, n.stmts, C), 1, sp\n",
    "  return _see(n, d, 1.0)[0]"
   ]
  },
  {
   "cell_type": "markdown",
   "metadata": {},
   "source": [
    "Intervening is the act of minimally changing the transition probabilities in order to bring about a desired event with probability one. For example, \"What is the probability of having the disease given that I take the drug and observe a recovery?\"\n",
    "\n",
    "$$P(D=1|T\\leftarrow1 \\wedge R=1)$$\n",
    "\n",
    "> depending on the critical set, the intervention could assign different values to the same random variables in separate branches of the tree, or in fact even manipulate different random variables in every branch (a context-dependent \"recipe\"), in order to bring about a desired effect.\n",
    "\n",
    "![Do](http://www.adaptiveagents.org/_media/wiki/do.png)"
   ]
  },
  {
   "cell_type": "code",
   "execution_count": 9,
   "metadata": {},
   "outputs": [],
   "source": [
    "def do(n:Node, d:MinCut) -> Node:\n",
    "  '''P(A|do(B)) :: proba of A, given B was made true.\n",
    "  @param n: reference proba tree\n",
    "  @param d: intervened event (do(B)); i.e. a set of variables\n",
    "    we set to specific values via intervention.\n",
    "  @return root of the new proba tree\n",
    "  '''\n",
    "  def _do(n: Node, d:MinCut):\n",
    "    if n.id in d.T: return n, True\n",
    "    if n.id in d.F: return n, False\n",
    "    C = set()\n",
    "    sl, sp = 0, 0\n",
    "    for pc, nc in n.childs:\n",
    "      nc, b = _do(nc, d)\n",
    "      if b:\n",
    "        C |= {(nc,1,pc)}\n",
    "        sl += 1\n",
    "        sp += 1\n",
    "      else:\n",
    "        C |= {(nc,0,pc)}\n",
    "    C = norm(C, sl, sp)\n",
    "    return Node(n.id, n.stmts, C), True\n",
    "  return _do(n, d)[0]"
   ]
  },
  {
   "cell_type": "markdown",
   "metadata": {},
   "source": [
    "A counterfactual is a statement about a *subjunctive* (possible or imagined) event that could've happened had the stochastic process taken a different course during its realization. Example (arrows mean we're imposing a value):\n",
    "\n",
    "$$P(R_{T\\leftarrow0}=1|T\\leftarrow1;R=1)$$\n",
    "\n",
    "In the real world, \"I have taken the treatment and recovered.\"\n",
    "What is the probability of \"recovering,\" had \"I not taken the treatment\" instead?\n",
    "\n",
    "![Counterfactual](http://www.adaptiveagents.org/_media/wiki/cf.png)"
   ]
  },
  {
   "cell_type": "code",
   "execution_count": 10,
   "metadata": {},
   "outputs": [],
   "source": [
    "def counterfact(n:Node, m:Node, d:MinCut) -> Node:\n",
    "  '''P(Ac|B) :: proba of A given B and if C was made true instead.\n",
    "\n",
    "  @param n: reference proba tree\n",
    "  @param m: factual premise tree\n",
    "  @param d: counterfactual event\n",
    "  @return root of the new (counterfactual) proba tree\n",
    "  '''\n",
    "  def _counterfact(n:Node, m:Node, d:MinCut):\n",
    "    if m.id in d.T: return n, True\n",
    "    if m.id in d.F: return n, False\n",
    "    is_critical_bifurcation = False\n",
    "    C = set()\n",
    "    for (pn, nc), (pm, mc) in zip(n.childs, m.childs):\n",
    "      nn, b = _counterfact(nc, mc, d)\n",
    "      if not b: is_critical_bifurcation = True\n",
    "      C |= {(pm, nn)}\n",
    "    if not is_critical_bifurcation:\n",
    "      n = Node(m.id, m.stmt, C)\n",
    "    return n, True\n",
    "  return _counterfact(do(n, d), m, d)[0]"
   ]
  },
  {
   "cell_type": "markdown",
   "metadata": {},
   "source": [
    "Normalize or assume some other measure (above - uniform) if total subtree probability is zero."
   ]
  },
  {
   "cell_type": "code",
   "execution_count": 11,
   "metadata": {},
   "outputs": [],
   "source": [
    "def norm(\n",
    "    D:Iterable[Tuple[Node,float,float]],      \n",
    "    sl:float, sp:float):\n",
    "  if sp: return {(p/sp, n) for n,l,p in D}\n",
    "  return {(l/sl, n) for n,l,p in D}"
   ]
  },
  {
   "cell_type": "markdown",
   "metadata": {},
   "source": [
    "## Conclusion\n",
    "\n",
    "> Unlike Pearl, who grounds the semantics of causal relations on the notion of interventions, \n",
    "> Shafer considered causality as a side-effect entirely subsumed under conditional independenece.\n",
    "> (...) Formalization of counterfactuals is unique to this work.\n",
    "\n",
    "Future work could involve \n",
    "* extending to 1st order logic,\n",
    "* exploring links to temporal logic and probabilistic programming,\n",
    "* a framework akin to do-calculus (can a causal effect be estimated from observation alone?)."
   ]
  }
 ],
 "metadata": {
  "kernelspec": {
   "display_name": "Python 3",
   "language": "python",
   "name": "python3"
  },
  "language_info": {
   "codemirror_mode": {
    "name": "ipython",
    "version": 3
   },
   "file_extension": ".py",
   "mimetype": "text/x-python",
   "name": "python",
   "nbconvert_exporter": "python",
   "pygments_lexer": "ipython3",
   "version": "3.8.6"
  }
 },
 "nbformat": 4,
 "nbformat_minor": 4
}
