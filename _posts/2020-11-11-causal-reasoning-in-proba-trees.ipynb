{
 "cells": [
  {
   "cell_type": "markdown",
   "metadata": {},
   "source": [
    "Discrete Probability Trees (or Staged Tree Models) are one of the simplest models of causal generative processes, different from Causal Bayesian Networks (CBNs) and Structural Causal Models (SCMs).\n",
    "\n",
    "A directed edge $e=(h,t)$ between two nodes in this graph is interpreted as the head being the cause of the tail.\n",
    "\n",
    "Their implementation is quite simple. Based on [Algorithms for Causal Reasoning in Probability Trees](https://arxiv.org/pdf/2010.12237.pdf)."
   ]
  },
  {
   "cell_type": "code",
   "execution_count": 14,
   "metadata": {},
   "outputs": [],
   "source": [
    "import dataclasses as dc\n",
    "from collections import namedtuple\n",
    "from typing import NamedTuple, List"
   ]
  },
  {
   "cell_type": "markdown",
   "metadata": {},
   "source": [
    "They represent PT nodes as $n=(u,S,C)$: unique identifier, list of statements (e.g. `W=rainy` and `X=0`) and a set of transitions.\n",
    "\n",
    "> A (total) realization in the probability tree is a path from the root to a leaf, and its probability is obtained by multiplying the transition probabilities along the path; and a partial realization is any connected sub-path within a total realization."
   ]
  },
  {
   "cell_type": "code",
   "execution_count": 15,
   "metadata": {},
   "outputs": [],
   "source": [
    "Stmt = namedtuple('Stmt', 'var val')\n",
    "\n",
    "@dc.dataclass(frozen=True)\n",
    "class Node:  # (u, S, C)\n",
    "  id: int\n",
    "  stmts: List[Stmt] = dc.field(compare=False)\n",
    "  childs: 'List[Node]' = dc.field(\n",
    "    default_factory=list, compare=False)"
   ]
  },
  {
   "cell_type": "markdown",
   "metadata": {},
   "source": [
    "Min-cut is a collection of nodes with **probabilities summing up to 1**, and a minimal representation of an event in terms of PT nodes."
   ]
  },
  {
   "cell_type": "code",
   "execution_count": 13,
   "metadata": {},
   "outputs": [],
   "source": [
    "null = frozenset()\n",
    "MinCut = namedtuple('MinCut', 'T F', defaults=(null, null))"
   ]
  },
  {
   "cell_type": "markdown",
   "metadata": {},
   "source": [
    "For a simple statement, its min-cut is the node containing that statement."
   ]
  },
  {
   "cell_type": "code",
   "execution_count": null,
   "metadata": {},
   "outputs": [],
   "source": [
    "def prop(n: Node, s: Stmt):\n",
    "  for var, val in n.stmts:\n",
    "    if var == s.var:\n",
    "      return MinCut(\n",
    "        T={n.id} if val == s.val else set(),\n",
    "        F=set() if val == s.val else {n.id})\n",
    "  if not n.childs:\n",
    "    raise Exception('Cannot be resolved')\n",
    "  T, F = set(), set()\n",
    "  for pc, nc in n.childs:\n",
    "    Tc, Fc = prop(nc, s)\n",
    "    T, F = T|Tc, F|Fc\n",
    "  return MinCut(T=T, F=F)"
   ]
  },
  {
   "cell_type": "markdown",
   "metadata": {},
   "source": [
    "Standard conjunction/disjunction/negation."
   ]
  },
  {
   "cell_type": "code",
   "execution_count": 16,
   "metadata": {},
   "outputs": [],
   "source": [
    "def and_(n: Node, d1: MinCut, d2: MinCut,\n",
    "         found1=False, found2=False):\n",
    "  if n.id in (d1.F|d2.F):\n",
    "    return MinCut(F={n.id})\n",
    "  if n.id in d1.T: found1 = True\n",
    "  if n.id in d2.T: found2 = True\n",
    "  if found1 and found2:\n",
    "    return MinCut(T={n.id})\n",
    "  T, F = set(), set()\n",
    "  for pc, nc in n.childs:\n",
    "    Tc, Fc = and_(nc, d1, d2, found1, found2)\n",
    "    T, F = T|Tc, F|Fc\n",
    "  return MinCut(T, F)\n",
    "\n",
    "def not_(d: MinCut):\n",
    "  # Just swap true and false sets.\n",
    "  return MinCut(T=d.F, F=d.T)\n",
    "\n",
    "def or_(n: Node, d1: MinCut, d2: MinCut):\n",
    "  # De Morgan\n",
    "  return not_(and_(n, not_(d1), not_(d2)))"
   ]
  },
  {
   "cell_type": "markdown",
   "metadata": {},
   "source": [
    "Precedence relation.\n",
    "There is a causal and an effect min-cut."
   ]
  },
  {
   "cell_type": "code",
   "execution_count": null,
   "metadata": {},
   "outputs": [],
   "source": [
    "def prec(n:Node, dc:MinCut, de:MinCut, is_cause=False):\n",
    "  '''A<B precedence relation.\n",
    "  \n",
    "  @param dc: cause\n",
    "  @param de: effect\n",
    "  @return min-cut for the event where precedence holds.\n",
    "  '''\n",
    "  if not f:\n",
    "    if n.id in (de.T|dc.F|de.F):\n",
    "      return MinCut(F={n.id})\n",
    "    if n.id in dc.T: \n",
    "      is_cause = True\n",
    "  else:\n",
    "    if n.id in dc.T: return MinCut(T={n.id})\n",
    "    if n.id in dc.F: return MinCut(F={n.id})\n",
    "  T, F = (set(), set())\n",
    "  for pc, nc in n.childs:\n",
    "    Tc, Fc = prec(nc, dc, de, is_cause)\n",
    "    T, F = T|Tc, F|Fc\n",
    "  return MinCut(T, F)"
   ]
  },
  {
   "cell_type": "markdown",
   "metadata": {},
   "source": [
    "Conditioning updates the tree after an event is revealed to be true.\n",
    "Just remove all probability mass from the false min cut in `d`, and recompute probabilities otherwise."
   ]
  },
  {
   "cell_type": "code",
   "execution_count": null,
   "metadata": {},
   "outputs": [],
   "source": [
    "def see(n: Node, d: MinCut, q=1.0):\n",
    "  '''P(A|B) :: proba of A, given B.\n",
    "  \n",
    "  @param n: reference proba tree\n",
    "  @param d: observed event\n",
    "  '''\n",
    "  if n.id in d.T: return n, 1, q\n",
    "  if n.id in d.F: return n, 0, 0\n",
    "  D = set()\n",
    "  sl, sp = 0, 0\n",
    "  for pc, nc in n.childs:\n",
    "    nc, lc, pc = see(nc, d, pc*q)\n",
    "    D |= {(nc,lc,pc)}\n",
    "    sl += lc\n",
    "    sp += pc\n",
    "  C = norm(D, sl, sp)\n",
    "  return Node(n.id, n.stmts, C), 1, sp"
   ]
  },
  {
   "cell_type": "markdown",
   "metadata": {},
   "source": [
    "Intervening only affects realizations downstream of the critical set\n",
    "(unlike conditions, which also affect upstream information).\n",
    "Hence algo is the same as `see`, but no probabilities."
   ]
  },
  {
   "cell_type": "code",
   "execution_count": null,
   "metadata": {},
   "outputs": [],
   "source": [
    "def do(n:Node, d:MinCut):\n",
    "  '''P(A|do(B)) :: proba of A, given B was made true.\n",
    "  \n",
    "  @param n: reference proba tree\n",
    "  @param d: intervened event (do(B))\n",
    "  '''\n",
    "  if n.id in d.T: return n, True\n",
    "  if n.id in d.F: return n, False\n",
    "  T, F = (set(), set())\n",
    "  sl, sp = 0, 0\n",
    "  for pc, nc in n.childs:\n",
    "    n, b = do(nc, d)\n",
    "    if b:\n",
    "      D |= {(nc,1,pc)}\n",
    "      sl += 1\n",
    "      sp += 1\n",
    "    else:\n",
    "      D |= {(nc,0,pc)}\n",
    "  C = norm(D, sl, sp)\n",
    "  return Node(n.id, n.stmts, C), True"
   ]
  },
  {
   "cell_type": "markdown",
   "metadata": {},
   "source": [
    "A counterfactual is a statement about a subjunctive (possible or imagined) event that could've happened had the stochastic process taken a different course during its realization.\n",
    "\n",
    "Below: A is subjunctive, C counterfactual, B factual."
   ]
  },
  {
   "cell_type": "code",
   "execution_count": null,
   "metadata": {},
   "outputs": [],
   "source": [
    "def counterfact(n:Node, m:Node, d:MinCut):\n",
    "  '''P(Ac|B) :: proba of A given B and if C was made true.\n",
    "\n",
    "  @param n: reference proba tree\n",
    "  @param m: factual premise tree (B)\n",
    "  @param d: counterfactual event (C)\n",
    "  '''\n",
    "  if n.id in d.T: return n, True\n",
    "  if n.id in d.F: return n, False\n",
    "  is_critical_bifurcation = False\n",
    "  C = set()\n",
    "  for (pn, nc), (pm, mc) in zip(n.childs, m.childs):\n",
    "    nn, b = counterfact(nc, mc, d)\n",
    "    if not b: is_critical_bifurcation = True\n",
    "    C |= {(pm, nn)}\n",
    "  if not is_critical_bifurcation:\n",
    "    n = Node(n.id, n.stmt, C)\n",
    "  return n, True"
   ]
  },
  {
   "cell_type": "markdown",
   "metadata": {},
   "source": [
    "Normalize or assume uniform measure if real probability is zero."
   ]
  },
  {
   "cell_type": "code",
   "execution_count": null,
   "metadata": {},
   "outputs": [],
   "source": [
    "def norm(D, sl, sp):\n",
    "  if sp: return {(p/sp, n) for n,l,p in D}\n",
    "  return {(l/sl, n) for n,l,p in D}"
   ]
  }
 ],
 "metadata": {
  "kernelspec": {
   "display_name": "Python 3",
   "language": "python",
   "name": "python3"
  },
  "language_info": {
   "codemirror_mode": {
    "name": "ipython",
    "version": 3
   },
   "file_extension": ".py",
   "mimetype": "text/x-python",
   "name": "python",
   "nbconvert_exporter": "python",
   "pygments_lexer": "ipython3",
   "version": "3.8.6"
  }
 },
 "nbformat": 4,
 "nbformat_minor": 4
}
